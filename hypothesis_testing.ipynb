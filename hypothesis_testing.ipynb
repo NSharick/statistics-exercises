{
 "cells": [
  {
   "cell_type": "markdown",
   "id": "e21d13cf",
   "metadata": {},
   "source": [
    "## Hypothesis Testing Exercises"
   ]
  },
  {
   "cell_type": "code",
   "execution_count": null,
   "id": "521585bc",
   "metadata": {},
   "outputs": [],
   "source": [
    "import numpy as np\n",
    "import pandas as pd\n",
    "import matplotlib.pyplot as plt\n",
    "import scipy.stats as stats\n",
    "import seaborn as sns\n",
    "from pydataset import data\n"
   ]
  },
  {
   "cell_type": "markdown",
   "id": "b5a25238",
   "metadata": {},
   "source": [
    "### Part 1 - Overview"
   ]
  },
  {
   "cell_type": "markdown",
   "id": "29813b8e",
   "metadata": {},
   "source": [
    "For each of the following questions, formulate a null and alternative hypothesis (be as specific as you can be), then give an example of what a true positive, true negative, type I and type II errors would look like. Note that some of the questions are intentionally phrased in a vague way. It is your job to reword these as more precise questions that could be tested.\n",
    "\n",
    "- Has the network latency gone up since we switched internet service providers?\n",
    "- Is the website redesign any good?\n",
    "- Is our television ad driving more sales?"
   ]
  },
  {
   "cell_type": "markdown",
   "id": "2115b988",
   "metadata": {},
   "source": [
    "Example 1 - \n",
    "\n",
    "Null hypothesis:\n",
    "- There is no difference between the network latency for our old internet service provider and our new internet service provider. \n",
    "\n",
    "Alternative hypothesis:\n",
    "- We experience more network latency with our new internet service provider compared to our old internet provier.\n",
    "\n",
    "True positive example:\n",
    "- When network latency data between the two companies was compared, latency from the new provider was higher.\n",
    "\n",
    "True negative example:\n",
    "- When network latency data between the two companies was compared, latency from the new provider was the same as the old provider.\n",
    "\n",
    "Type 1 error:\n",
    "- We said that latency from the new provider was higher but when we compared the data, latency levels were actually the same.\n",
    "\n",
    "Type 2 error:\n",
    "- We said that latency levels between the two companies were the same but when we compared the data, latency levels at the new company were actually higher.\n"
   ]
  },
  {
   "cell_type": "markdown",
   "id": "02309f60",
   "metadata": {},
   "source": [
    "---"
   ]
  },
  {
   "cell_type": "markdown",
   "id": "a969ab87",
   "metadata": {},
   "source": [
    "Example 2 - \n",
    "\n",
    "Null hypothesis:\n",
    "- Our redesigned website has experienced the same mean amount of views compared to our original website.\n",
    "\n",
    "Alternative hypothesis:\n",
    "- Our redesigned website has experienced a higher mean amount of views compared to our original website.\n",
    "\n",
    "True positive example:\n",
    "- When website traffic data was compared, our redesigned website experienced more views than our old website.\n",
    "\n",
    "True negative example:\n",
    "- When website traffic data was compared, our redesigned website experienced the same amount of views as our old website.\n",
    "\n",
    "Type 1 error:\n",
    "- We said that the redesigned website recieved more views than the old website but when we compared website traffic data, the amount of views was actually the same.\n",
    "\n",
    "Type 2 error:\n",
    "- We said that the redesigned website recieved the same amount of views as the old website but when we compared website traffic data, the amount of views for the redesigned website were actually higher.\n"
   ]
  },
  {
   "cell_type": "markdown",
   "id": "ca06d726",
   "metadata": {},
   "source": [
    "---"
   ]
  },
  {
   "cell_type": "markdown",
   "id": "0bb86d21",
   "metadata": {},
   "source": [
    "Example 3 - \n",
    "\n",
    "Null hypothesis:\n",
    "- Our average monthly sales is the same as it was before runing our television ad. \n",
    "\n",
    "Alternative hypothesis:\n",
    "- Our average monthly sales is higher than it was before running our television ad.\n",
    "\n",
    "True positive example:\n",
    "- When average monthly sales before and after running the television ad were compared, the average was higher after running the ad.\n",
    "\n",
    "True negative example:\n",
    "- When average monthly sales before and after running the television ad were compared, the average was the same before and after running the ad.\n",
    "\n",
    "Type 1 error:\n",
    "- We said that average monthly sales were higher after running the television ad but when data was compared, the average monthly sales were actually the same.\n",
    "\n",
    "Type 2 error:\n",
    "- We said that average monthly sales were the same before and after running the television ad but when data was compared, the average monthly sales were actually higher after running the ad.\n"
   ]
  },
  {
   "cell_type": "markdown",
   "id": "12cd205d",
   "metadata": {},
   "source": [
    "---"
   ]
  },
  {
   "cell_type": "markdown",
   "id": "267058ec",
   "metadata": {},
   "source": [
    "### Part 2 - T-Test"
   ]
  },
  {
   "cell_type": "markdown",
   "id": "2b11af4c",
   "metadata": {},
   "source": [
    "Ace Realty wants to determine whether the average time it takes to sell homes is different for its two offices. A sample of 40 sales from office #1 revealed a mean of 90 days and a standard deviation of 15 days. A sample of 50 sales from office #2 revealed a mean of 100 days and a standard deviation of 20 days. Use a .05 level of significance."
   ]
  },
  {
   "cell_type": "code",
   "execution_count": null,
   "id": "de49f963",
   "metadata": {},
   "outputs": [],
   "source": []
  },
  {
   "cell_type": "markdown",
   "id": "8b594e22",
   "metadata": {},
   "source": [
    "Load the mpg dataset and use it to answer the following questions:\n",
    "\n",
    "- Is there a difference in fuel-efficiency in cars from 2008 vs 1999?\n",
    "- Are compact cars more fuel-efficient than the average car?\n",
    "- Do manual cars get better gas mileage than automatic cars?"
   ]
  },
  {
   "cell_type": "code",
   "execution_count": null,
   "id": "b3440f8c",
   "metadata": {},
   "outputs": [],
   "source": []
  },
  {
   "cell_type": "code",
   "execution_count": null,
   "id": "051f2611",
   "metadata": {},
   "outputs": [],
   "source": []
  },
  {
   "cell_type": "markdown",
   "id": "3738e423",
   "metadata": {},
   "source": [
    "### Part 3 - Correlation"
   ]
  },
  {
   "cell_type": "markdown",
   "id": "5eff7e3f",
   "metadata": {},
   "source": [
    "Use the telco_churn data. Does tenure correlate with monthly charges? Total charges? What happens if you control for phone and internet service?"
   ]
  },
  {
   "cell_type": "code",
   "execution_count": null,
   "id": "ffce7064",
   "metadata": {},
   "outputs": [],
   "source": []
  },
  {
   "cell_type": "markdown",
   "id": "9e67c1cf",
   "metadata": {},
   "source": [
    "Use the employees database.\n",
    "- Is there a relationship between how long an employee has been with the company and their salary?\n",
    "- Is there a relationship between how long an employee has been with the company and the number of titles they have had?"
   ]
  },
  {
   "cell_type": "code",
   "execution_count": null,
   "id": "dcff7314",
   "metadata": {},
   "outputs": [],
   "source": []
  },
  {
   "cell_type": "markdown",
   "id": "7f90ab33",
   "metadata": {},
   "source": [
    "Use the sleepstudy data. Is there a relationship between days and reaction time?"
   ]
  },
  {
   "cell_type": "code",
   "execution_count": null,
   "id": "8cb87f2e",
   "metadata": {},
   "outputs": [],
   "source": []
  },
  {
   "cell_type": "code",
   "execution_count": null,
   "id": "d5043206",
   "metadata": {},
   "outputs": [],
   "source": []
  },
  {
   "cell_type": "code",
   "execution_count": null,
   "id": "3c3182a0",
   "metadata": {},
   "outputs": [],
   "source": []
  }
 ],
 "metadata": {
  "kernelspec": {
   "display_name": "Python 3 (ipykernel)",
   "language": "python",
   "name": "python3"
  },
  "language_info": {
   "codemirror_mode": {
    "name": "ipython",
    "version": 3
   },
   "file_extension": ".py",
   "mimetype": "text/x-python",
   "name": "python",
   "nbconvert_exporter": "python",
   "pygments_lexer": "ipython3",
   "version": "3.9.7"
  }
 },
 "nbformat": 4,
 "nbformat_minor": 5
}
