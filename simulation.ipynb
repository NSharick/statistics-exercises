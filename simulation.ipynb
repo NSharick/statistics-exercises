{
 "cells": [
  {
   "cell_type": "markdown",
   "id": "f2615512",
   "metadata": {},
   "source": [
    "Simulations Exercises"
   ]
  },
  {
   "cell_type": "code",
   "execution_count": 37,
   "id": "5eed139b",
   "metadata": {},
   "outputs": [],
   "source": [
    "import numpy as np\n",
    "import pandas as pd"
   ]
  },
  {
   "cell_type": "markdown",
   "id": "2651f8d5",
   "metadata": {},
   "source": [
    "1. How likely is it that you roll doubles when rolling two dice?"
   ]
  },
  {
   "cell_type": "code",
   "execution_count": 35,
   "id": "9978ca5b",
   "metadata": {},
   "outputs": [
    {
     "data": {
      "text/plain": [
       "0.1625"
      ]
     },
     "execution_count": 35,
     "metadata": {},
     "output_type": "execute_result"
    }
   ],
   "source": [
    "#Figure out how to represent your data - numbers 1 - 6\n",
    "#Create a matrix of random numbers, rows represent simulations \n",
    "n_trials = 2\n",
    "n_simulations = 10000\n",
    "\n",
    "dice_rolls = np.random.randint(1, 7, size=(n_simulations, n_trials))\n",
    "dice_rolls\n",
    "\n",
    "#Apply an aggregation row-wise to summarize each simulation \n",
    "are_the_rolls_the_same = dice_rolls[:,0] == dice_rolls[:,1]\n",
    "#are_the_rolls_the_same\n",
    "\n",
    "#Apply an aggregation to the resulting 1-d array to come up with a experimental probability \n",
    "\n",
    "are_the_rolls_the_same.mean()\n",
    "\n",
    "##when indexing a 2d array  it works like this: variable_name[row, column] and \":\" can be used to to represent \"all\""
   ]
  },
  {
   "cell_type": "markdown",
   "id": "2fdb9fb4",
   "metadata": {},
   "source": [
    "2. If you flip 8 coins, what is the probability of getting exactly 3 heads? What is the probability of getting more than 3 heads?\n",
    "\n"
   ]
  },
  {
   "cell_type": "code",
   "execution_count": 45,
   "id": "87cca4ec",
   "metadata": {},
   "outputs": [
    {
     "data": {
      "text/plain": [
       "0.2241"
      ]
     },
     "execution_count": 45,
     "metadata": {},
     "output_type": "execute_result"
    }
   ],
   "source": [
    "#Figure out how to represent your data\n",
    "#1 = heads, 0 = tails\n",
    "\n",
    "#Create a matrix of random numbers, rows represent simulations \n",
    "coin_flips = np.random.choice([1, 0], size= (80000)).reshape(10000, 8)\n",
    "#coin_flips\n",
    "\n",
    "#Apply an aggregation row-wise to summarize each simulation \n",
    "n_heads_per_flip = coin_flips.sum(axis=1)\n",
    "#n_heads_per_flip\n",
    "\n",
    "#Apply an aggregation to the resulting 1-d array to come up with a experimental probability \n",
    "exactly_three_heads = n_heads_per_flip == 3\n",
    "#exactly_three_heads\n",
    "\n",
    "#probability of getting exactly three\n",
    "exactly_three_heads.mean()"
   ]
  },
  {
   "cell_type": "code",
   "execution_count": 47,
   "id": "a93b7859",
   "metadata": {},
   "outputs": [
    {
     "data": {
      "text/plain": [
       "0.6406"
      ]
     },
     "execution_count": 47,
     "metadata": {},
     "output_type": "execute_result"
    }
   ],
   "source": [
    "#probability of getting more than three heads\n",
    "prob_more_than_three = n_heads_per_flip > 3\n",
    "#prob_more_than_three\n",
    "\n",
    "prob_more_than_three.mean()"
   ]
  },
  {
   "cell_type": "markdown",
   "id": "273dd259",
   "metadata": {},
   "source": [
    "3. There are approximitely 3 web development cohorts for every 1 data science cohort at Codeup. Assuming that Codeup randomly selects an alumni to put on a billboard, what are the odds that the two billboards I drive past both have data science students on them?"
   ]
  },
  {
   "cell_type": "code",
   "execution_count": 54,
   "id": "956e2a7e",
   "metadata": {},
   "outputs": [
    {
     "data": {
      "text/plain": [
       "0.0613"
      ]
     },
     "execution_count": 54,
     "metadata": {},
     "output_type": "execute_result"
    }
   ],
   "source": [
    "#Figure out how to represent your data - \n",
    "#Create a matrix of random numbers, rows represent simulations \n",
    "ds_billboard = np.random.uniform(size=(10000, 2)) <= 0.25\n",
    "#ds_billboard\n",
    "\n",
    "#Apply an aggregation row-wise to summarize each simulation \n",
    "ds_per_billboard = ds_billboard.sum(axis=1)\n",
    "#ds_per_billboard\n",
    "\n",
    "#Apply an aggregation to the resulting 1-d array to come up with a experimental probability \n",
    "both_ds = ds_per_billboard == 2\n",
    "#both_ds\n",
    "\n",
    "both_ds.mean()"
   ]
  },
  {
   "cell_type": "markdown",
   "id": "eadb07c1",
   "metadata": {},
   "source": [
    "4. Codeup students buy, on average, 3 poptart packages with a standard deviation of 1.5 a day from the snack vending machine. If on monday the machine is restocked with 17 poptart packages, how likely is it that I will be able to buy some poptarts on Friday afternoon? (Remember, if you have mean and standard deviation, use the np.random.normal)"
   ]
  },
  {
   "cell_type": "code",
   "execution_count": 69,
   "id": "88323185",
   "metadata": {},
   "outputs": [
    {
     "data": {
      "text/plain": [
       "0.6161"
      ]
     },
     "execution_count": 69,
     "metadata": {},
     "output_type": "execute_result"
    }
   ],
   "source": [
    "poptarts_bought = np.random.normal(loc=3, scale=1.5, size=(10000, 5))\n",
    "#poptarts_bought\n",
    "friday_poptart = (poptarts_bought.sum(axis=1)) <= 16\n",
    "#friday_poptart\n",
    "friday_poptart.mean()"
   ]
  },
  {
   "cell_type": "markdown",
   "id": "5f97aa03",
   "metadata": {},
   "source": [
    "5. Compare Heights\n",
    "\n",
    "Men have an average height of 178 cm and standard deviation of 8cm.\n",
    "Women have a mean of 170, sd = 6cm.\n",
    "Since you have means and standard deviations, you can use np.random.normal to generate observations.\n",
    "If a man and woman are chosen at random, P(woman taller than man)?\n"
   ]
  },
  {
   "cell_type": "code",
   "execution_count": 117,
   "id": "7a7a9001",
   "metadata": {},
   "outputs": [
    {
     "data": {
      "text/plain": [
       "0.2119"
      ]
     },
     "execution_count": 117,
     "metadata": {},
     "output_type": "execute_result"
    }
   ],
   "source": [
    "men = np.random.normal(loc=178, scale=8, size=(10000))\n",
    "#men\n",
    "women = np.random.normal(loc=170, scale=6, size=(10000))\n",
    "#women\n",
    "woman_taller = women > men\n",
    "#woman_taller\n",
    "woman_taller.mean()"
   ]
  },
  {
   "cell_type": "markdown",
   "id": "539c1cda",
   "metadata": {},
   "source": [
    "6. When installing anaconda on a student's computer, there's a 1 in 250 chance that the download is corrupted and the installation fails. What are the odds that after having 50 students download anaconda, no one has an installation issue? 100 students?\n",
    "\n",
    "What is the probability that we observe an installation issue within the first 150 students that download anaconda?\n",
    "\n",
    "How likely is it that 450 students all download anaconda without an issue?"
   ]
  },
  {
   "cell_type": "code",
   "execution_count": 86,
   "id": "8852d174",
   "metadata": {},
   "outputs": [
    {
     "data": {
      "text/plain": [
       "0.8183"
      ]
     },
     "execution_count": 86,
     "metadata": {},
     "output_type": "execute_result"
    }
   ],
   "source": [
    "#50 student installs\n",
    "conda_install_sims = np.random.uniform(size=(10000, 50)) <= 0.004\n",
    "#conda_install_sims\n",
    "conda_trials = conda_install_sims.sum(axis=1)\n",
    "#conda_trials\n",
    "conda_success = conda_trials == 0\n",
    "#conda_success\n",
    "conda_success.mean()"
   ]
  },
  {
   "cell_type": "code",
   "execution_count": 87,
   "id": "86de4565",
   "metadata": {},
   "outputs": [
    {
     "data": {
      "text/plain": [
       "0.668"
      ]
     },
     "execution_count": 87,
     "metadata": {},
     "output_type": "execute_result"
    }
   ],
   "source": [
    "#100 student installs\n",
    "conda_install_sims = np.random.uniform(size=(10000, 100)) <= 0.004\n",
    "#conda_install_sims\n",
    "conda_trials = conda_install_sims.sum(axis=1)\n",
    "#conda_trials\n",
    "conda_success = conda_trials == 0\n",
    "#conda_success\n",
    "conda_success.mean()"
   ]
  },
  {
   "cell_type": "code",
   "execution_count": 118,
   "id": "510e22b3",
   "metadata": {},
   "outputs": [
    {
     "data": {
      "text/plain": [
       "0.4442"
      ]
     },
     "execution_count": 118,
     "metadata": {},
     "output_type": "execute_result"
    }
   ],
   "source": [
    "#150 student installs - with an issue\n",
    "conda_install_sims = np.random.uniform(size=(10000, 150)) <= 0.004\n",
    "#conda_install_sims\n",
    "conda_trials = conda_install_sims.sum(axis=1)\n",
    "#conda_trials\n",
    "conda_fails = conda_trials >= 1\n",
    "#conda_fails\n",
    "conda_fails.mean()"
   ]
  },
  {
   "cell_type": "code",
   "execution_count": 89,
   "id": "0636743e",
   "metadata": {},
   "outputs": [
    {
     "data": {
      "text/plain": [
       "0.1658"
      ]
     },
     "execution_count": 89,
     "metadata": {},
     "output_type": "execute_result"
    }
   ],
   "source": [
    "#450 student installs\n",
    "conda_install_sims = np.random.uniform(size=(10000, 450)) <= 0.004\n",
    "#conda_install_sims\n",
    "conda_trials = conda_install_sims.sum(axis=1)\n",
    "#conda_trials\n",
    "conda_success = conda_trials == 0\n",
    "#conda_success\n",
    "conda_success.mean()"
   ]
  },
  {
   "cell_type": "markdown",
   "id": "5ac8d350",
   "metadata": {},
   "source": [
    "7. There's a 70% chance on any given day that there will be at least one food truck at Travis Park. However, you haven't seen a food truck there in 3 days. How unlikely is this?\n",
    "\n",
    "How likely is it that a food truck will show up sometime this week?"
   ]
  },
  {
   "cell_type": "code",
   "execution_count": 93,
   "id": "14d92fa6",
   "metadata": {},
   "outputs": [
    {
     "data": {
      "text/plain": [
       "0.0276"
      ]
     },
     "execution_count": 93,
     "metadata": {},
     "output_type": "execute_result"
    }
   ],
   "source": [
    "#probability of no truck for three days\n",
    "tp_food_truck = np.random.uniform(size=(10000, 3)) <= 0.70\n",
    "#tp_food_truck\n",
    "tp_ft = tp_food_truck.sum(axis=1)\n",
    "#tp_ft\n",
    "no_truck_three_days = tp_ft == 0\n",
    "#no_truck_three_days\n",
    "no_truck_three_days.mean()"
   ]
  },
  {
   "cell_type": "code",
   "execution_count": 119,
   "id": "130b027b",
   "metadata": {},
   "outputs": [
    {
     "data": {
      "text/plain": [
       "0.9973"
      ]
     },
     "execution_count": 119,
     "metadata": {},
     "output_type": "execute_result"
    }
   ],
   "source": [
    "#probability of truck this week\n",
    "tp_food_truck = np.random.uniform(size=(10000, 5)) <= 0.70\n",
    "#tp_food_truck\n",
    "tp_ft = tp_food_truck.sum(axis=1)\n",
    "#tp_ft\n",
    "truck_this_week = tp_ft >= 1\n",
    "#truck_this_week\n",
    "truck_this_week.mean()"
   ]
  },
  {
   "cell_type": "markdown",
   "id": "d8ee0568",
   "metadata": {},
   "source": [
    "8. If 23 people are in the same room, what are the odds that two of them share a birthday? What if it's 20 people? 40?"
   ]
  },
  {
   "cell_type": "code",
   "execution_count": 122,
   "id": "dd3b3e82",
   "metadata": {},
   "outputs": [
    {
     "data": {
      "text/plain": [
       "0.5116"
      ]
     },
     "execution_count": 122,
     "metadata": {},
     "output_type": "execute_result"
    }
   ],
   "source": [
    "#23 people\n",
    "bday_sims = np.random.randint(1, 366, size=(10000, 23))\n",
    "bday_sims = pd.DataFrame(bday_sims)\n",
    "(bday_sims.apply(lambda bdays: bdays.nunique(), axis=1) < 23).mean()"
   ]
  },
  {
   "cell_type": "code",
   "execution_count": 123,
   "id": "532bcaa8",
   "metadata": {},
   "outputs": [
    {
     "data": {
      "text/plain": [
       "0.4165"
      ]
     },
     "execution_count": 123,
     "metadata": {},
     "output_type": "execute_result"
    }
   ],
   "source": [
    "#20 people\n",
    "bday_sims = np.random.randint(1, 366, size=(10000, 20))\n",
    "bday_sims = pd.DataFrame(bday_sims)\n",
    "(bday_sims.apply(lambda bdays: bdays.nunique(), axis=1) < 20).mean()"
   ]
  },
  {
   "cell_type": "code",
   "execution_count": 124,
   "id": "100ea720",
   "metadata": {},
   "outputs": [
    {
     "data": {
      "text/plain": [
       "0.8917"
      ]
     },
     "execution_count": 124,
     "metadata": {},
     "output_type": "execute_result"
    }
   ],
   "source": [
    "#40 people\n",
    "bday_sims = np.random.randint(1, 366, size=(10000, 40))\n",
    "bday_sims = pd.DataFrame(bday_sims)\n",
    "(bday_sims.apply(lambda bdays: bdays.nunique(), axis=1) < 40).mean()"
   ]
  },
  {
   "cell_type": "code",
   "execution_count": null,
   "id": "8186efdc",
   "metadata": {},
   "outputs": [],
   "source": []
  }
 ],
 "metadata": {
  "kernelspec": {
   "display_name": "Python 3 (ipykernel)",
   "language": "python",
   "name": "python3"
  },
  "language_info": {
   "codemirror_mode": {
    "name": "ipython",
    "version": 3
   },
   "file_extension": ".py",
   "mimetype": "text/x-python",
   "name": "python",
   "nbconvert_exporter": "python",
   "pygments_lexer": "ipython3",
   "version": "3.9.7"
  }
 },
 "nbformat": 4,
 "nbformat_minor": 5
}
