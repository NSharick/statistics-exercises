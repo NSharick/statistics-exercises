{
 "cells": [
  {
   "cell_type": "markdown",
   "id": "504cedb4",
   "metadata": {},
   "source": [
    "Probability Distributions Exercises"
   ]
  },
  {
   "cell_type": "code",
   "execution_count": 4,
   "id": "0499fbb1",
   "metadata": {},
   "outputs": [],
   "source": [
    "import numpy as np\n",
    "from scipy import stats\n",
    "import pandas as pd\n",
    "import matplotlib.pyplot as plt"
   ]
  },
  {
   "cell_type": "markdown",
   "id": "67580998",
   "metadata": {},
   "source": [
    "1. A bank found that the average number of cars waiting during the noon hour at a drive-up window follows a Poisson distribution with a mean of 2 cars. Make a chart of this distribution and answer these questions concerning the probability of cars waiting at the drive-up window.\n",
    "\n",
    "- What is the probability that no cars drive up in the noon hour?\n",
    "- What is the probability that 3 or more cars come through the drive through?\n",
    "- How likely is it that the drive through gets at least 1 car?"
   ]
  },
  {
   "cell_type": "code",
   "execution_count": 5,
   "id": "b72924b3",
   "metadata": {},
   "outputs": [
    {
     "data": {
      "image/png": "[encoded data removed]",
      "text/plain": [
       "<Figure size 432x288 with 1 Axes>"
      ]
     },
     "metadata": {
      "needs_background": "light"
     },
     "output_type": "display_data"
    }
   ],
   "source": [
    "pd.Series(stats.poisson(2).rvs(10_000)).value_counts().sort_index().plot.bar()\n",
    "plt.show()"
   ]
  },
  {
   "cell_type": "code",
   "execution_count": 6,
   "id": "8852e065",
   "metadata": {},
   "outputs": [
    {
     "data": {
      "text/plain": [
       "0.1353352832366127"
      ]
     },
     "execution_count": 6,
     "metadata": {},
     "output_type": "execute_result"
    }
   ],
   "source": [
    "#1a - probability that no cars will drive up\n",
    "stats.poisson(2).pmf(0)"
   ]
  },
  {
   "cell_type": "code",
   "execution_count": 7,
   "id": "a1fb99e4",
   "metadata": {},
   "outputs": [
    {
     "data": {
      "text/plain": [
       "0.32332358381693654"
      ]
     },
     "execution_count": 7,
     "metadata": {},
     "output_type": "execute_result"
    }
   ],
   "source": [
    "#1b - probability that 3 or more cars drive through\n",
    "stats.poisson(2).sf(2)"
   ]
  },
  {
   "cell_type": "code",
   "execution_count": 8,
   "id": "3644b77a",
   "metadata": {},
   "outputs": [
    {
     "data": {
      "text/plain": [
       "0.8646647167633873"
      ]
     },
     "execution_count": 8,
     "metadata": {},
     "output_type": "execute_result"
    }
   ],
   "source": [
    "#1c - probability that at least 1 car drives through\n",
    "stats.poisson(2).sf(0)"
   ]
  },
  {
   "cell_type": "code",
   "execution_count": 144,
   "id": "965d742b",
   "metadata": {},
   "outputs": [
    {
     "data": {
      "text/plain": [
       "0.1358"
      ]
     },
     "execution_count": 144,
     "metadata": {},
     "output_type": "execute_result"
    }
   ],
   "source": [
    "#simulation for #1a\n",
    "cars1 = np.random.poisson(2, size=10000)\n",
    "success = cars1 == 0\n",
    "success.mean()"
   ]
  },
  {
   "cell_type": "code",
   "execution_count": 146,
   "id": "3adb28a8",
   "metadata": {},
   "outputs": [
    {
     "data": {
      "text/plain": [
       "0.3205"
      ]
     },
     "execution_count": 146,
     "metadata": {},
     "output_type": "execute_result"
    }
   ],
   "source": [
    "#simulation for #1b\n",
    "cars2 = np.random.poisson(2, size=10000)\n",
    "success2 = cars2 >= 3\n",
    "success2.mean()"
   ]
  },
  {
   "cell_type": "code",
   "execution_count": 147,
   "id": "c5f2bbd1",
   "metadata": {},
   "outputs": [
    {
     "data": {
      "text/plain": [
       "0.8647"
      ]
     },
     "execution_count": 147,
     "metadata": {},
     "output_type": "execute_result"
    }
   ],
   "source": [
    "#simuation for #1c\n",
    "cars3 = np.random.poisson(2, size=10000)\n",
    "success3 = cars3 >=1\n",
    "success3.mean()"
   ]
  },
  {
   "cell_type": "markdown",
   "id": "36b08c10",
   "metadata": {},
   "source": [
    "---"
   ]
  },
  {
   "cell_type": "markdown",
   "id": "998cad7f",
   "metadata": {},
   "source": [
    "2. Grades of State University graduates are normally distributed with a mean of 3.0 and a standard deviation of .3. Calculate the following:\n",
    "\n",
    "- What grade point average is required to be in the top 5% of the graduating class?\n",
    "- What GPA constitutes the bottom 15% of the class?\n",
    "- An eccentric alumnus left scholarship money for students in the third decile from the bottom of their class.\n",
    "- Determine the range of the third decile. Would a student with a 2.8 grade point average qualify for this scholarship?\n",
    "- If I have a GPA of 3.5, what percentile am I in?"
   ]
  },
  {
   "cell_type": "code",
   "execution_count": 23,
   "id": "c0cb95c3",
   "metadata": {},
   "outputs": [
    {
     "data": {
      "image/png": "[encoded data removed]",
      "text/plain": [
       "<Figure size 432x288 with 1 Axes>"
      ]
     },
     "metadata": {
      "needs_background": "light"
     },
     "output_type": "display_data"
    }
   ],
   "source": [
    "#plot for #2\n",
    "pd.Series(stats.norm(3.0, .3).rvs(10000)).plot.hist()\n",
    "plt.show()"
   ]
  },
  {
   "cell_type": "code",
   "execution_count": 24,
   "id": "1265eb1f",
   "metadata": {},
   "outputs": [
    {
     "data": {
      "text/plain": [
       "3.4934560880854417"
      ]
     },
     "execution_count": 24,
     "metadata": {},
     "output_type": "execute_result"
    }
   ],
   "source": [
    "#2a - gpa required to be in the top 5%\n",
    "stats.norm(3.0, .3).isf(.05)"
   ]
  },
  {
   "cell_type": "code",
   "execution_count": 25,
   "id": "b83068df",
   "metadata": {},
   "outputs": [
    {
     "data": {
      "text/plain": [
       "2.689069983151863"
      ]
     },
     "execution_count": 25,
     "metadata": {},
     "output_type": "execute_result"
    }
   ],
   "source": [
    "#2b - gpa for bottom 15% of the class\n",
    "stats.norm(3.0, .3).ppf(.15)"
   ]
  },
  {
   "cell_type": "code",
   "execution_count": 27,
   "id": "92a4b7b7",
   "metadata": {},
   "outputs": [
    {
     "data": {
      "text/plain": [
       "2.7475136299281258"
      ]
     },
     "execution_count": 27,
     "metadata": {},
     "output_type": "execute_result"
    }
   ],
   "source": [
    "#2c - students in the third decile (values split into ten even groups) from the bottom of the class\n",
    "stats.norm(3.0, .3).isf(.8)\n",
    "#min in third decile"
   ]
  },
  {
   "cell_type": "code",
   "execution_count": 28,
   "id": "018c31de",
   "metadata": {},
   "outputs": [
    {
     "data": {
      "text/plain": [
       "2.842679846187588"
      ]
     },
     "execution_count": 28,
     "metadata": {},
     "output_type": "execute_result"
    }
   ],
   "source": [
    "stats.norm(3.0, .3).ppf(.3)\n",
    "#max in third decile"
   ]
  },
  {
   "cell_type": "code",
   "execution_count": 30,
   "id": "68a04693",
   "metadata": {},
   "outputs": [
    {
     "data": {
      "text/plain": [
       "True"
      ]
     },
     "execution_count": 30,
     "metadata": {},
     "output_type": "execute_result"
    }
   ],
   "source": [
    "#Would a 2.8 gpa qualify for the scholarship?\n",
    "min_gpa_third_decile = stats.norm(3.0, .3).isf(.8)\n",
    "max_gpa_third_decile = stats.norm(3.0, .3).ppf(.3)\n",
    "gpa = 2.8\n",
    "\n",
    "min_gpa_third_decile < gpa < max_gpa_third_decile"
   ]
  },
  {
   "cell_type": "code",
   "execution_count": 31,
   "id": "ce4e7b7b",
   "metadata": {},
   "outputs": [
    {
     "data": {
      "text/plain": [
       "0.9522096477271853"
      ]
     },
     "execution_count": 31,
     "metadata": {},
     "output_type": "execute_result"
    }
   ],
   "source": [
    "#2d - what percentile is a 3.5 gpa in?\n",
    "stats.norm(3.0, .3).cdf(3.5)"
   ]
  },
  {
   "cell_type": "code",
   "execution_count": 99,
   "id": "b161f755",
   "metadata": {},
   "outputs": [
    {
     "data": {
      "text/plain": [
       "3.495323835392417"
      ]
     },
     "execution_count": 99,
     "metadata": {},
     "output_type": "execute_result"
    }
   ],
   "source": [
    "#simulation for #2a\n",
    "gpa_dist = np.random.normal(loc=3.0, scale=.3, size=10000)\n",
    "np.percentile(gpa_dist, 95)"
   ]
  },
  {
   "cell_type": "code",
   "execution_count": 101,
   "id": "f759744f",
   "metadata": {},
   "outputs": [
    {
     "data": {
      "text/plain": [
       "2.6915429383131104"
      ]
     },
     "execution_count": 101,
     "metadata": {},
     "output_type": "execute_result"
    }
   ],
   "source": [
    "#simulation for 2b\n",
    "np.percentile(gpa_dist, 15)"
   ]
  },
  {
   "cell_type": "code",
   "execution_count": 102,
   "id": "08a07e24",
   "metadata": {},
   "outputs": [
    {
     "data": {
      "text/plain": [
       "True"
      ]
     },
     "execution_count": 102,
     "metadata": {},
     "output_type": "execute_result"
    }
   ],
   "source": [
    "#simulation for 2c\n",
    "x = 2.8\n",
    "(np.percentile(gpa_dist, 20)) < x < (np.percentile(gpa_dist, 30))"
   ]
  },
  {
   "cell_type": "code",
   "execution_count": 148,
   "id": "81d49bce",
   "metadata": {},
   "outputs": [
    {
     "data": {
      "text/plain": [
       "0.9519"
      ]
     },
     "execution_count": 148,
     "metadata": {},
     "output_type": "execute_result"
    }
   ],
   "source": [
    "#simulation for 2d\n",
    "call_gpa = 3.5\n",
    "(call_gpa > gpa_dist).mean()"
   ]
  },
  {
   "cell_type": "markdown",
   "id": "c21ff615",
   "metadata": {},
   "source": [
    "---"
   ]
  },
  {
   "cell_type": "markdown",
   "id": "237a3be5",
   "metadata": {},
   "source": [
    "3. A marketing website has an average click-through rate of 2%. One day they observe 4326 visitors and 97 click-throughs. How likely is it that this many people or more click through?"
   ]
  },
  {
   "cell_type": "code",
   "execution_count": 34,
   "id": "be480eae",
   "metadata": {},
   "outputs": [
    {
     "data": {
      "text/plain": [
       "0.13975823631416445"
      ]
     },
     "execution_count": 34,
     "metadata": {},
     "output_type": "execute_result"
    }
   ],
   "source": [
    "#3 - how likely is this many people or more clickthrough\n",
    "p_clickthrough = .02\n",
    "clickthroughs_observ = 4326\n",
    "\n",
    "stats.binom(clickthroughs_observ, p_clickthrough).sf(96)"
   ]
  },
  {
   "cell_type": "code",
   "execution_count": 36,
   "id": "d715426f",
   "metadata": {},
   "outputs": [
    {
     "data": {
      "image/png": "[encoded data removed]",
      "text/plain": [
       "<Figure size 432x288 with 1 Axes>"
      ]
     },
     "metadata": {
      "needs_background": "light"
     },
     "output_type": "display_data"
    }
   ],
   "source": [
    "# plot for #3\n",
    "pd.Series(stats.binom(clickthroughs_observ, p_clickthrough).rvs(10_000)).value_counts().sort_index().plot.bar()\n",
    "plt.show()"
   ]
  },
  {
   "cell_type": "code",
   "execution_count": 167,
   "id": "213c49cd",
   "metadata": {},
   "outputs": [
    {
     "data": {
      "text/plain": [
       "0.1382"
      ]
     },
     "execution_count": 167,
     "metadata": {},
     "output_type": "execute_result"
    }
   ],
   "source": [
    "#simulation for #3\n",
    "sims = np.random.choice([True, False], p=[.02, .98], size=(10000, 4326))\n",
    "x = sims.sum(axis=1) >= 97\n",
    "x.mean()"
   ]
  },
  {
   "cell_type": "markdown",
   "id": "4ea404d0",
   "metadata": {},
   "source": [
    "---"
   ]
  },
  {
   "cell_type": "markdown",
   "id": "2faa9eb5",
   "metadata": {},
   "source": [
    "4. You are working on some statistics homework consisting of 100 questions where all of the answers are a probability rounded to the hundreths place. Looking to save time, you put down random probabilities as the answer to each question.\n",
    "\n",
    "- What is the probability that at least one of your first 60 answers is correct?\n"
   ]
  },
  {
   "cell_type": "code",
   "execution_count": 39,
   "id": "fe4e102c",
   "metadata": {},
   "outputs": [
    {
     "data": {
      "text/plain": [
       "0.45284335760923855"
      ]
     },
     "execution_count": 39,
     "metadata": {},
     "output_type": "execute_result"
    }
   ],
   "source": [
    "#4 - what is the probability of 1 in 60 correct\n",
    "p_value = .01\n",
    "n_trials = 60\n",
    "\n",
    "stats.binom(n_trials, p_value).sf(0)"
   ]
  },
  {
   "cell_type": "code",
   "execution_count": 40,
   "id": "e6979394",
   "metadata": {},
   "outputs": [
    {
     "data": {
      "image/png": "[encoded data removed]",
      "text/plain": [
       "<Figure size 432x288 with 1 Axes>"
      ]
     },
     "metadata": {
      "needs_background": "light"
     },
     "output_type": "display_data"
    }
   ],
   "source": [
    "#plot for #4\n",
    "pd.Series(stats.binom(n_trials, p_value).rvs(10000)).value_counts().sort_index().plot.bar()\n",
    "plt.show()"
   ]
  },
  {
   "cell_type": "code",
   "execution_count": 127,
   "id": "2e5d2fc6",
   "metadata": {},
   "outputs": [
    {
     "data": {
      "text/plain": [
       "0.4545"
      ]
     },
     "execution_count": 127,
     "metadata": {},
     "output_type": "execute_result"
    }
   ],
   "source": [
    "#simulation for #4\n",
    "homework_sims = np.random.choice([True, False], p=[.01, .99], size=(10000, 60))\n",
    "correct = homework_sims.sum(axis=1) > 0\n",
    "correct.mean()"
   ]
  },
  {
   "cell_type": "markdown",
   "id": "08ebcbe3",
   "metadata": {},
   "source": [
    "---"
   ]
  },
  {
   "cell_type": "markdown",
   "id": "5963b0a9",
   "metadata": {},
   "source": [
    "5. The codeup staff tends to get upset when the student break area is not cleaned up. Suppose that there's a 3% chance that any one student cleans the break area when they visit it, and, on any given day, about 90% of the 3 active cohorts of 22 students visit the break area. How likely is it that the break area gets cleaned up each day? How likely is it that it goes two days without getting cleaned up? All week?"
   ]
  },
  {
   "cell_type": "code",
   "execution_count": 44,
   "id": "4f7aa6ff",
   "metadata": {},
   "outputs": [
    {
     "data": {
      "text/plain": [
       "0.8342199288437352"
      ]
     },
     "execution_count": 44,
     "metadata": {},
     "output_type": "execute_result"
    }
   ],
   "source": [
    "#5a - probability it gets cleaned each day\n",
    "p_value = .03\n",
    "n_trials = 59 #90% of 66 students rounded\n",
    "\n",
    "stats.binom(n_trials, p_value).sf(0)"
   ]
  },
  {
   "cell_type": "code",
   "execution_count": 46,
   "id": "84785209",
   "metadata": {},
   "outputs": [
    {
     "data": {
      "image/png": "[encoded data removed]",
      "text/plain": [
       "<Figure size 432x288 with 1 Axes>"
      ]
     },
     "metadata": {
      "needs_background": "light"
     },
     "output_type": "display_data"
    }
   ],
   "source": [
    "#plot for #5a\n",
    "pd.Series(stats.binom(n_trials, p_value).rvs(10000)).value_counts().sort_index().plot.bar()\n",
    "plt.show()"
   ]
  },
  {
   "cell_type": "code",
   "execution_count": 48,
   "id": "bdb32131",
   "metadata": {},
   "outputs": [
    {
     "data": {
      "text/plain": [
       "0.027483031992576134"
      ]
     },
     "execution_count": 48,
     "metadata": {},
     "output_type": "execute_result"
    }
   ],
   "source": [
    "#5b - not cleaned for two days\n",
    "two_day_p_value = .03\n",
    "two_day_n_trials = 118 #90% of 66 students rounded * 2 for 2 days\n",
    "\n",
    "stats.binom(two_day_n_trials, two_day_p_value).pmf(0)"
   ]
  },
  {
   "cell_type": "code",
   "execution_count": 49,
   "id": "a2dd598d",
   "metadata": {},
   "outputs": [
    {
     "data": {
      "image/png": "[encoded data removed]",
      "text/plain": [
       "<Figure size 432x288 with 1 Axes>"
      ]
     },
     "metadata": {
      "needs_background": "light"
     },
     "output_type": "display_data"
    }
   ],
   "source": [
    "#plot for 5b\n",
    "pd.Series(stats.binom(two_day_n_trials, two_day_p_value).rvs(10000)).value_counts().sort_index().plot.bar()\n",
    "plt.show()"
   ]
  },
  {
   "cell_type": "code",
   "execution_count": 52,
   "id": "dd6562aa",
   "metadata": {},
   "outputs": [
    {
     "data": {
      "text/plain": [
       "0.00012521651388091245"
      ]
     },
     "execution_count": 52,
     "metadata": {},
     "output_type": "execute_result"
    }
   ],
   "source": [
    "#5c - all week no cleaning\n",
    "week_p_value = .03\n",
    "week_n_trials = 295 #90% of 66 students rounded * 5 days (all week)\n",
    "\n",
    "stats.binom(week_n_trials, week_p_value).pmf(0)"
   ]
  },
  {
   "cell_type": "code",
   "execution_count": 53,
   "id": "2779019d",
   "metadata": {},
   "outputs": [
    {
     "data": {
      "image/png": "[encoded data removed]",
      "text/plain": [
       "<Figure size 432x288 with 1 Axes>"
      ]
     },
     "metadata": {
      "needs_background": "light"
     },
     "output_type": "display_data"
    }
   ],
   "source": [
    "#plot for 5c\n",
    "pd.Series(stats.binom(week_n_trials, week_p_value).rvs(10000)).value_counts().sort_index().plot.bar()\n",
    "plt.show()"
   ]
  },
  {
   "cell_type": "code",
   "execution_count": 161,
   "id": "a1ca6c51",
   "metadata": {},
   "outputs": [
    {
     "data": {
      "text/plain": [
       "0.8318"
      ]
     },
     "execution_count": 161,
     "metadata": {},
     "output_type": "execute_result"
    }
   ],
   "source": [
    "#simulations for #5a\n",
    "student_cleans = np.random.binomial(59, .03, size=(10000))\n",
    "#student_cleans\n",
    "success = student_cleans >=1\n",
    "success.mean()"
   ]
  },
  {
   "cell_type": "code",
   "execution_count": 137,
   "id": "93ff5644",
   "metadata": {},
   "outputs": [
    {
     "data": {
      "text/plain": [
       "0.0279"
      ]
     },
     "execution_count": 137,
     "metadata": {},
     "output_type": "execute_result"
    }
   ],
   "source": [
    "#simulation for #5b\n",
    "student_clean = np.random.binomial(118, .03, size=(10000))\n",
    "clean_fail = student_clean < 1\n",
    "clean_fail.mean()"
   ]
  },
  {
   "cell_type": "code",
   "execution_count": 142,
   "id": "5c2d296f",
   "metadata": {},
   "outputs": [
    {
     "data": {
      "text/plain": [
       "0.0002"
      ]
     },
     "execution_count": 142,
     "metadata": {},
     "output_type": "execute_result"
    }
   ],
   "source": [
    "#simulation for #5c\n",
    "stud_clean = np.random.binomial(295, .03, size=10000)\n",
    "clean_success = stud_clean < 1\n",
    "clean_success.mean()"
   ]
  },
  {
   "cell_type": "markdown",
   "id": "768f6e29",
   "metadata": {},
   "source": [
    "---"
   ]
  },
  {
   "cell_type": "markdown",
   "id": "84e588be",
   "metadata": {},
   "source": [
    "6. You want to get lunch at La Panaderia, but notice that the line is usually very long at lunchtime. After several weeks of careful observation, you notice that the average number of people in line when your lunch break starts is normally distributed with a mean of 15 and standard deviation of 3. If it takes 2 minutes for each person to order, and 10 minutes from ordering to getting your food, what is the likelihood that you have at least 15 minutes left to eat your food before you have to go back to class? Assume you have one hour for lunch, and ignore travel time to and from La Panaderia."
   ]
  },
  {
   "cell_type": "code",
   "execution_count": 54,
   "id": "c7764872",
   "metadata": {},
   "outputs": [
    {
     "data": {
      "text/plain": [
       "0.7475074624530771"
      ]
     },
     "execution_count": 54,
     "metadata": {},
     "output_type": "execute_result"
    }
   ],
   "source": [
    "#6 - \n",
    "\n",
    "#17 people in line in front (17 people orders = 2min * 17people = 34 minutes + 10 minutes wait for food = 44 minutes \n",
    "# -- leaving 16 minutes to eat)\n",
    "line_mean = 15\n",
    "line_sd = 3\n",
    "\n",
    "stats.norm(line_mean, line_sd).cdf(17)\n"
   ]
  },
  {
   "cell_type": "code",
   "execution_count": 55,
   "id": "8180d897",
   "metadata": {},
   "outputs": [
    {
     "data": {
      "image/png": "[encoded data removed]",
      "text/plain": [
       "<Figure size 432x288 with 1 Axes>"
      ]
     },
     "metadata": {
      "needs_background": "light"
     },
     "output_type": "display_data"
    }
   ],
   "source": [
    "#plot for #6\n",
    "pd.Series(stats.norm(line_mean, line_sd).rvs(10000)).plot.hist()\n",
    "plt.show()"
   ]
  },
  {
   "cell_type": "code",
   "execution_count": 162,
   "id": "7be365a9",
   "metadata": {},
   "outputs": [
    {
     "data": {
      "text/plain": [
       "0.7459"
      ]
     },
     "execution_count": 162,
     "metadata": {},
     "output_type": "execute_result"
    }
   ],
   "source": [
    "#simulation for #6\n",
    "line_size = np.random.normal(15, 3, size=10000)\n",
    "success = line_size <= 17\n",
    "success.mean()"
   ]
  },
  {
   "cell_type": "markdown",
   "id": "a2437393",
   "metadata": {},
   "source": [
    "---"
   ]
  },
  {
   "cell_type": "markdown",
   "id": "8082cc83",
   "metadata": {},
   "source": [
    "7. Connect to the employees database and find the average salary of current employees, along with the standard deviation. For the following questions, calculate the answer based on modeling the employees salaries with a normal distribution defined by the calculated mean and standard deviation then compare this answer to the actual values present in the salaries dataset.\n",
    "\n",
    "- What percent of employees earn less than 60,000?\n",
    "- What percent of employees earn more than 95,000?\n",
    "- What percent of employees earn between 65,000 and 80,000?\n",
    "- What do the top 5% of employees make?"
   ]
  },
  {
   "cell_type": "code",
   "execution_count": null,
   "id": "0473eed9",
   "metadata": {},
   "outputs": [],
   "source": []
  },
  {
   "cell_type": "code",
   "execution_count": 56,
   "id": "3fb5b2ed",
   "metadata": {},
   "outputs": [],
   "source": [
    "from env import get_db_url"
   ]
  },
  {
   "cell_type": "code",
   "execution_count": null,
   "id": "401a6a13",
   "metadata": {},
   "outputs": [],
   "source": []
  },
  {
   "cell_type": "code",
   "execution_count": 63,
   "id": "fa1c2af4",
   "metadata": {},
   "outputs": [],
   "source": [
    "salaries = pd.read_sql('SELECT * FROM salaries;', get_db_url('employees'))"
   ]
  },
  {
   "cell_type": "code",
   "execution_count": 64,
   "id": "b6b37deb",
   "metadata": {},
   "outputs": [
    {
     "data": {
      "text/html": [
       "<div>\n",
       "<style scoped>\n",
       "    .dataframe tbody tr th:only-of-type {\n",
       "        vertical-align: middle;\n",
       "    }\n",
       "\n",
       "    .dataframe tbody tr th {\n",
       "        vertical-align: top;\n",
       "    }\n",
       "\n",
       "    .dataframe thead th {\n",
       "        text-align: right;\n",
       "    }\n",
       "</style>\n",
       "<table border=\"1\" class=\"dataframe\">\n",
       "  <thead>\n",
       "    <tr style=\"text-align: right;\">\n",
       "      <th></th>\n",
       "      <th>emp_no</th>\n",
       "      <th>salary</th>\n",
       "      <th>from_date</th>\n",
       "      <th>to_date</th>\n",
       "    </tr>\n",
       "  </thead>\n",
       "  <tbody>\n",
       "    <tr>\n",
       "      <th>0</th>\n",
       "      <td>10001</td>\n",
       "      <td>60117</td>\n",
       "      <td>1986-06-26</td>\n",
       "      <td>1987-06-26</td>\n",
       "    </tr>\n",
       "    <tr>\n",
       "      <th>1</th>\n",
       "      <td>10001</td>\n",
       "      <td>62102</td>\n",
       "      <td>1987-06-26</td>\n",
       "      <td>1988-06-25</td>\n",
       "    </tr>\n",
       "    <tr>\n",
       "      <th>2</th>\n",
       "      <td>10001</td>\n",
       "      <td>66074</td>\n",
       "      <td>1988-06-25</td>\n",
       "      <td>1989-06-25</td>\n",
       "    </tr>\n",
       "    <tr>\n",
       "      <th>3</th>\n",
       "      <td>10001</td>\n",
       "      <td>66596</td>\n",
       "      <td>1989-06-25</td>\n",
       "      <td>1990-06-25</td>\n",
       "    </tr>\n",
       "    <tr>\n",
       "      <th>4</th>\n",
       "      <td>10001</td>\n",
       "      <td>66961</td>\n",
       "      <td>1990-06-25</td>\n",
       "      <td>1991-06-25</td>\n",
       "    </tr>\n",
       "  </tbody>\n",
       "</table>\n",
       "</div>"
      ],
      "text/plain": [
       "   emp_no  salary   from_date     to_date\n",
       "0   10001   60117  1986-06-26  1987-06-26\n",
       "1   10001   62102  1987-06-26  1988-06-25\n",
       "2   10001   66074  1988-06-25  1989-06-25\n",
       "3   10001   66596  1989-06-25  1990-06-25\n",
       "4   10001   66961  1990-06-25  1991-06-25"
      ]
     },
     "execution_count": 64,
     "metadata": {},
     "output_type": "execute_result"
    }
   ],
   "source": [
    "salaries.head()"
   ]
  },
  {
   "cell_type": "code",
   "execution_count": 65,
   "id": "4a30e596",
   "metadata": {},
   "outputs": [],
   "source": [
    "current_salaries = pd.read_sql('SELECT salary FROM salaries WHERE to_date > NOW();', get_db_url('employees'))"
   ]
  },
  {
   "cell_type": "code",
   "execution_count": 66,
   "id": "612b439f",
   "metadata": {},
   "outputs": [
    {
     "data": {
      "text/html": [
       "<div>\n",
       "<style scoped>\n",
       "    .dataframe tbody tr th:only-of-type {\n",
       "        vertical-align: middle;\n",
       "    }\n",
       "\n",
       "    .dataframe tbody tr th {\n",
       "        vertical-align: top;\n",
       "    }\n",
       "\n",
       "    .dataframe thead th {\n",
       "        text-align: right;\n",
       "    }\n",
       "</style>\n",
       "<table border=\"1\" class=\"dataframe\">\n",
       "  <thead>\n",
       "    <tr style=\"text-align: right;\">\n",
       "      <th></th>\n",
       "      <th>salary</th>\n",
       "    </tr>\n",
       "  </thead>\n",
       "  <tbody>\n",
       "    <tr>\n",
       "      <th>0</th>\n",
       "      <td>88958</td>\n",
       "    </tr>\n",
       "    <tr>\n",
       "      <th>1</th>\n",
       "      <td>72527</td>\n",
       "    </tr>\n",
       "    <tr>\n",
       "      <th>2</th>\n",
       "      <td>43311</td>\n",
       "    </tr>\n",
       "    <tr>\n",
       "      <th>3</th>\n",
       "      <td>74057</td>\n",
       "    </tr>\n",
       "    <tr>\n",
       "      <th>4</th>\n",
       "      <td>94692</td>\n",
       "    </tr>\n",
       "  </tbody>\n",
       "</table>\n",
       "</div>"
      ],
      "text/plain": [
       "   salary\n",
       "0   88958\n",
       "1   72527\n",
       "2   43311\n",
       "3   74057\n",
       "4   94692"
      ]
     },
     "execution_count": 66,
     "metadata": {},
     "output_type": "execute_result"
    }
   ],
   "source": [
    "current_salaries.head()"
   ]
  },
  {
   "cell_type": "code",
   "execution_count": 68,
   "id": "2f8d37d8",
   "metadata": {},
   "outputs": [
    {
     "data": {
      "text/plain": [
       "(240124, 1)"
      ]
     },
     "execution_count": 68,
     "metadata": {},
     "output_type": "execute_result"
    }
   ],
   "source": [
    "current_salaries.shape\n"
   ]
  },
  {
   "cell_type": "code",
   "execution_count": 70,
   "id": "10008f95",
   "metadata": {},
   "outputs": [
    {
     "data": {
      "text/plain": [
       "salary    72012.235857\n",
       "dtype: float64"
      ]
     },
     "execution_count": 70,
     "metadata": {},
     "output_type": "execute_result"
    }
   ],
   "source": [
    "#mean of salaries for current employees\n",
    "cs_mean = current_salaries.mean()\n",
    "cs_mean"
   ]
  },
  {
   "cell_type": "code",
   "execution_count": 72,
   "id": "d79d1fd4",
   "metadata": {},
   "outputs": [
    {
     "data": {
      "text/plain": [
       "salary    17309.99538\n",
       "dtype: float64"
      ]
     },
     "execution_count": 72,
     "metadata": {},
     "output_type": "execute_result"
    }
   ],
   "source": [
    "#standard deviation of current salaries\n",
    "cs_sd = current_salaries.std()\n",
    "cs_sd"
   ]
  },
  {
   "cell_type": "markdown",
   "id": "65846af6",
   "metadata": {},
   "source": [
    "---"
   ]
  },
  {
   "cell_type": "code",
   "execution_count": 75,
   "id": "a2ad80b0",
   "metadata": {},
   "outputs": [
    {
     "data": {
      "text/plain": [
       "array([0.24387554])"
      ]
     },
     "execution_count": 75,
     "metadata": {},
     "output_type": "execute_result"
    }
   ],
   "source": [
    "#7a - percent of employees that earn less than 60,000 (normal distribution)\n",
    "stats.norm(cs_mean, cs_sd).cdf(60001) "
   ]
  },
  {
   "cell_type": "code",
   "execution_count": 80,
   "id": "d9257543",
   "metadata": {},
   "outputs": [
    {
     "data": {
      "text/html": [
       "<div>\n",
       "<style scoped>\n",
       "    .dataframe tbody tr th:only-of-type {\n",
       "        vertical-align: middle;\n",
       "    }\n",
       "\n",
       "    .dataframe tbody tr th {\n",
       "        vertical-align: top;\n",
       "    }\n",
       "\n",
       "    .dataframe thead th {\n",
       "        text-align: right;\n",
       "    }\n",
       "</style>\n",
       "<table border=\"1\" class=\"dataframe\">\n",
       "  <thead>\n",
       "    <tr style=\"text-align: right;\">\n",
       "      <th></th>\n",
       "      <th>salary</th>\n",
       "    </tr>\n",
       "  </thead>\n",
       "  <tbody>\n",
       "    <tr>\n",
       "      <th>0</th>\n",
       "      <td>False</td>\n",
       "    </tr>\n",
       "    <tr>\n",
       "      <th>1</th>\n",
       "      <td>False</td>\n",
       "    </tr>\n",
       "    <tr>\n",
       "      <th>2</th>\n",
       "      <td>True</td>\n",
       "    </tr>\n",
       "    <tr>\n",
       "      <th>3</th>\n",
       "      <td>False</td>\n",
       "    </tr>\n",
       "    <tr>\n",
       "      <th>4</th>\n",
       "      <td>False</td>\n",
       "    </tr>\n",
       "  </tbody>\n",
       "</table>\n",
       "</div>"
      ],
      "text/plain": [
       "   salary\n",
       "0   False\n",
       "1   False\n",
       "2    True\n",
       "3   False\n",
       "4   False"
      ]
     },
     "execution_count": 80,
     "metadata": {},
     "output_type": "execute_result"
    }
   ],
   "source": [
    "#actual employees below 60,000\n",
    "less_than_60 = current_salaries < 60000\n",
    "less_than_60.head()"
   ]
  },
  {
   "cell_type": "code",
   "execution_count": 84,
   "id": "f73a97fa",
   "metadata": {},
   "outputs": [
    {
     "data": {
      "text/plain": [
       "0.2705727041028802"
      ]
     },
     "execution_count": 84,
     "metadata": {},
     "output_type": "execute_result"
    }
   ],
   "source": [
    "#actual percentage below 60,000\n",
    "np.average(less_than_60)"
   ]
  },
  {
   "cell_type": "markdown",
   "id": "70233b27",
   "metadata": {},
   "source": [
    "---"
   ]
  },
  {
   "cell_type": "code",
   "execution_count": 76,
   "id": "2038c52b",
   "metadata": {},
   "outputs": [
    {
     "data": {
      "text/plain": [
       "array([0.09208819])"
      ]
     },
     "execution_count": 76,
     "metadata": {},
     "output_type": "execute_result"
    }
   ],
   "source": [
    "#7b - percent of employees that earn more than 95,000 (normal distribution)\n",
    "stats.norm(cs_mean, cs_sd).sf(95000) "
   ]
  },
  {
   "cell_type": "code",
   "execution_count": 85,
   "id": "35e63772",
   "metadata": {},
   "outputs": [
    {
     "data": {
      "text/html": [
       "<div>\n",
       "<style scoped>\n",
       "    .dataframe tbody tr th:only-of-type {\n",
       "        vertical-align: middle;\n",
       "    }\n",
       "\n",
       "    .dataframe tbody tr th {\n",
       "        vertical-align: top;\n",
       "    }\n",
       "\n",
       "    .dataframe thead th {\n",
       "        text-align: right;\n",
       "    }\n",
       "</style>\n",
       "<table border=\"1\" class=\"dataframe\">\n",
       "  <thead>\n",
       "    <tr style=\"text-align: right;\">\n",
       "      <th></th>\n",
       "      <th>salary</th>\n",
       "    </tr>\n",
       "  </thead>\n",
       "  <tbody>\n",
       "    <tr>\n",
       "      <th>0</th>\n",
       "      <td>False</td>\n",
       "    </tr>\n",
       "    <tr>\n",
       "      <th>1</th>\n",
       "      <td>False</td>\n",
       "    </tr>\n",
       "    <tr>\n",
       "      <th>2</th>\n",
       "      <td>False</td>\n",
       "    </tr>\n",
       "    <tr>\n",
       "      <th>3</th>\n",
       "      <td>False</td>\n",
       "    </tr>\n",
       "    <tr>\n",
       "      <th>4</th>\n",
       "      <td>False</td>\n",
       "    </tr>\n",
       "  </tbody>\n",
       "</table>\n",
       "</div>"
      ],
      "text/plain": [
       "   salary\n",
       "0   False\n",
       "1   False\n",
       "2   False\n",
       "3   False\n",
       "4   False"
      ]
     },
     "execution_count": 85,
     "metadata": {},
     "output_type": "execute_result"
    }
   ],
   "source": [
    "#employees that make more than 95,000 (actual)\n",
    "more_than_95 = current_salaries > 95000\n",
    "more_than_95.head()"
   ]
  },
  {
   "cell_type": "code",
   "execution_count": 86,
   "id": "0c66c912",
   "metadata": {},
   "outputs": [
    {
     "data": {
      "text/plain": [
       "0.1086272092752078"
      ]
     },
     "execution_count": 86,
     "metadata": {},
     "output_type": "execute_result"
    }
   ],
   "source": [
    "#percent of employees that make above 95,000 (actual)\n",
    "np.average(more_than_95)"
   ]
  },
  {
   "cell_type": "markdown",
   "id": "9b1d5078",
   "metadata": {},
   "source": [
    "---"
   ]
  },
  {
   "cell_type": "code",
   "execution_count": 150,
   "id": "3f9dd195",
   "metadata": {},
   "outputs": [
    {
     "data": {
      "text/plain": [
       "0.3350605685446666"
      ]
     },
     "execution_count": 150,
     "metadata": {},
     "output_type": "execute_result"
    }
   ],
   "source": [
    "#7c - percent of employees that earn between 65,000 and 80,000 (normal distribution)\n",
    "sal_above_65 = stats.norm(cs_mean, cs_sd).sf(65000)\n",
    "sal_above_80 = stats.norm(cs_mean, cs_sd).sf(80000)\n",
    "\n",
    "sal_between = sal_above_65 - sal_above_80\n",
    "sal_between.mean()"
   ]
  },
  {
   "cell_type": "code",
   "execution_count": 169,
   "id": "71ccc246",
   "metadata": {},
   "outputs": [
    {
     "data": {
      "text/plain": [
       "salary    0.325107\n",
       "dtype: float64"
      ]
     },
     "execution_count": 169,
     "metadata": {},
     "output_type": "execute_result"
    }
   ],
   "source": [
    "#percent of employees that earn between 65,000 and 80,000 (actual)\n",
    "sal_between_65_80 = (current_salaries > 65000) & (current_salaries < 80000)\n",
    "sal_between_65_80.mean()"
   ]
  },
  {
   "cell_type": "markdown",
   "id": "87a38d22",
   "metadata": {},
   "source": [
    "---"
   ]
  },
  {
   "cell_type": "code",
   "execution_count": 78,
   "id": "1c037dd8",
   "metadata": {},
   "outputs": [
    {
     "data": {
      "text/plain": [
       "array([100484.64454103])"
      ]
     },
     "execution_count": 78,
     "metadata": {},
     "output_type": "execute_result"
    }
   ],
   "source": [
    "#7d - salaries in top 5% (normal distribution)\n",
    "stats.norm(cs_mean, cs_sd).isf(.05) "
   ]
  },
  {
   "cell_type": "code",
   "execution_count": 87,
   "id": "e5b18739",
   "metadata": {},
   "outputs": [
    {
     "data": {
      "text/plain": [
       "104225.84999999998"
      ]
     },
     "execution_count": 87,
     "metadata": {},
     "output_type": "execute_result"
    }
   ],
   "source": [
    "#salary cut off for top 5% (actual)\n",
    "np.percentile(current_salaries, 95)"
   ]
  },
  {
   "cell_type": "code",
   "execution_count": 154,
   "id": "467c4ff5",
   "metadata": {},
   "outputs": [
    {
     "data": {
      "image/png": "[encoded data removed]",
      "text/plain": [
       "<Figure size 432x288 with 1 Axes>"
      ]
     },
     "metadata": {
      "needs_background": "light"
     },
     "output_type": "display_data"
    }
   ],
   "source": [
    "#plot for #7 model\n",
    "pd.Series(stats.norm(cs_mean, cs_sd).rvs(10000)).plot.hist()\n",
    "plt.show()"
   ]
  },
  {
   "cell_type": "code",
   "execution_count": 170,
   "id": "f8ca657b",
   "metadata": {},
   "outputs": [
    {
     "data": {
      "text/plain": [
       "<AxesSubplot:ylabel='Frequency'>"
      ]
     },
     "execution_count": 170,
     "metadata": {},
     "output_type": "execute_result"
    },
    {
     "data": {
      "image/png": "[encoded data removed]",
      "text/plain": [
       "<Figure size 432x288 with 1 Axes>"
      ]
     },
     "metadata": {
      "needs_background": "light"
     },
     "output_type": "display_data"
    }
   ],
   "source": [
    "#plot for actual data from database\n",
    "current_salaries.plot.hist()"
   ]
  },
  {
   "cell_type": "code",
   "execution_count": null,
   "id": "4a236b88",
   "metadata": {},
   "outputs": [],
   "source": []
  }
 ],
 "metadata": {
  "kernelspec": {
   "display_name": "Python 3 (ipykernel)",
   "language": "python",
   "name": "python3"
  },
  "language_info": {
   "codemirror_mode": {
    "name": "ipython",
    "version": 3
   },
   "file_extension": ".py",
   "mimetype": "text/x-python",
   "name": "python",
   "nbconvert_exporter": "python",
   "pygments_lexer": "ipython3",
   "version": "3.9.7"
  }
 },
 "nbformat": 4,
 "nbformat_minor": 5
}
